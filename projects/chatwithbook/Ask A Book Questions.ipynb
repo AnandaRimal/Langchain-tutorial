{
 "cells": [
  {
   "cell_type": "markdown",
   "id": "8b715375",
   "metadata": {},
   "source": [
    "# Top-K Similarity Search - Ask A Book A Question\n",
    "\n",
    "In this tutorial we will see a simple example of basic retrieval via Top-K Similarity search"
   ]
  },
  {
   "cell_type": "code",
   "execution_count": 1,
   "id": "9d615a77",
   "metadata": {},
   "outputs": [],
   "source": [
    "# pip install langchain --upgrade\n",
    "# Version: 0.0.164\n",
    "\n",
    "# !pip install pypdf"
   ]
  },
  {
   "cell_type": "code",
   "execution_count": 1,
   "id": "2d3e92ed",
   "metadata": {},
   "outputs": [
    {
     "name": "stderr",
     "output_type": "stream",
     "text": [
      "c:\\Users\\anand\\Desktop\\ananda github\\Langchain-tutorial\\.venv\\Lib\\site-packages\\tqdm\\auto.py:21: TqdmWarning: IProgress not found. Please update jupyter and ipywidgets. See https://ipywidgets.readthedocs.io/en/stable/user_install.html\n",
      "  from .autonotebook import tqdm as notebook_tqdm\n"
     ]
    },
    {
     "data": {
      "text/plain": [
       "True"
      ]
     },
     "execution_count": 1,
     "metadata": {},
     "output_type": "execute_result"
    }
   ],
   "source": [
    "# PDF Loaders. If unstructured gives you a hard time, try PyPDFLoader\n",
    "from langchain_community.document_loaders import UnstructuredPDFLoader, OnlinePDFLoader, PyPDFLoader, TextLoader\n",
    "from langchain.text_splitter import RecursiveCharacterTextSplitter\n",
    "from dotenv import load_dotenv\n",
    "import os\n",
    "\n",
    "load_dotenv()"
   ]
  },
  {
   "cell_type": "markdown",
   "id": "5166d759",
   "metadata": {},
   "source": [
    "### Load your data\n",
    "\n",
    "Next let's load up some data. I've put a few 'loaders' on there which will load data from different locations. Feel free to use the one that suits you. The default one queries one of Paul Graham's essays for a simple example. This process will only stage the loader, not actually load it."
   ]
  },
  {
   "cell_type": "markdown",
   "id": "c8d38044",
   "metadata": {},
   "source": [
    "Then let's go ahead and actually load the data."
   ]
  },
  {
   "cell_type": "code",
   "execution_count": null,
   "id": "59b93415",
   "metadata": {},
   "outputs": [],
   "source": [
    "loader = PyPDFLoader(\"computer_graphics_notes.json\")"
   ]
  },
  {
   "cell_type": "code",
   "execution_count": 30,
   "id": "bcdac23c",
   "metadata": {},
   "outputs": [],
   "source": [
    "data = loader.load()"
   ]
  },
  {
   "cell_type": "markdown",
   "id": "e07a744a",
   "metadata": {},
   "source": [
    "Then let's actually check out what's been loaded"
   ]
  },
  {
   "cell_type": "code",
   "execution_count": 31,
   "id": "b4fd7c9e",
   "metadata": {},
   "outputs": [
    {
     "name": "stdout",
     "output_type": "stream",
     "text": [
      "You have 18 document(s) in your data\n",
      "There are 1872 characters in your sample document\n",
      "Here is a sample: https://collegenote.pythonanywhere.com                                     Prepared By: Jayanta Poudel \n",
      " \n",
      "1 Computer Graphics (Reference Note)                                                          \n"
     ]
    }
   ],
   "source": [
    "# Note: If you're using PyPDFLoader then it will split by page for you already\n",
    "print (f'You have {len(data)} document(s) in your data')\n",
    "print (f'There are {len(data[0].page_content)} characters in your sample document')\n",
    "print (f'Here is a sample: {data[0].page_content[:200]}')"
   ]
  },
  {
   "cell_type": "markdown",
   "id": "8af9b604",
   "metadata": {},
   "source": [
    "### Chunk your data up into smaller documents\n",
    "\n",
    "While we could pass the entire essay to a model w/ long context, we want to be picky about which information we share with our model. The better signal to noise ratio we have the more likely we are to get the right answer.\n",
    "\n",
    "The first thing we'll do is chunk up our document into smaller pieces. The goal will be to take only a few of those smaller pieces and pass them to the LLM."
   ]
  },
  {
   "cell_type": "code",
   "execution_count": 130,
   "id": "fb3c6f02",
   "metadata": {},
   "outputs": [],
   "source": [
    "# We'll split our data into chunks around 500 characters each with a 50 character overlap. These are relatively small.\n",
    "\n",
    "text_splitter = RecursiveCharacterTextSplitter(chunk_size=1000, chunk_overlap=300)\n",
    "texts = text_splitter.split_documents(data)"
   ]
  },
  {
   "cell_type": "code",
   "execution_count": 131,
   "id": "879873a4",
   "metadata": {},
   "outputs": [
    {
     "name": "stdout",
     "output_type": "stream",
     "text": [
      "Now you have 46 documents\n"
     ]
    }
   ],
   "source": [
    "# Let's see how many small chunks we have\n",
    "print (f'Now you have {len(texts)} documents')"
   ]
  },
  {
   "cell_type": "markdown",
   "id": "838b2843",
   "metadata": {},
   "source": [
    "### Create embeddings of your documents to get ready for semantic search\n",
    "\n",
    "Next up we need to prepare for similarity searches. The way we do this is through embedding our documents (getting a vector per document).\n",
    "\n",
    "This will help us compare documents later on."
   ]
  },
  {
   "cell_type": "code",
   "execution_count": 132,
   "id": "373e695a",
   "metadata": {},
   "outputs": [],
   "source": [
    "from langchain.embeddings import HuggingFaceEmbeddings\n",
    "\n",
    "def download_embeddings():\n",
    "    \"\"\"\n",
    "    Download and return the HuggingFace embeddings model.\n",
    "    \"\"\"\n",
    "    model_name = \"sentence-transformers/all-MiniLM-L6-v2\"\n",
    "    embeddings = HuggingFaceEmbeddings(\n",
    "        model_name=model_name\n",
    "    )\n",
    "    return embeddings\n",
    "\n",
    "embedding = download_embeddings()\n"
   ]
  },
  {
   "cell_type": "markdown",
   "id": "884e7857",
   "metadata": {},
   "source": [
    "Check to see if there is an environment variable with you API keys, if not, use what you put below"
   ]
  },
  {
   "cell_type": "markdown",
   "id": "76d66c06",
   "metadata": {},
   "source": [
    "### Option #1: Chroma (for local)\n",
    "\n",
    "I like Chroma becauase it's local and easy to set up without an account.\n",
    "\n",
    "First we'll pass our texts to Chroma via `.from_documents`, this will 1) embed the documents and get a vector, then 2) add them to the vectorstore for retrieval later."
   ]
  },
  {
   "cell_type": "code",
   "execution_count": 133,
   "id": "4e0d1c6a",
   "metadata": {},
   "outputs": [],
   "source": [
    "# load it into Chroma\n",
    "from langchain.vectorstores import Chroma\n",
    "vectorstore = Chroma.from_documents(texts, embedding)"
   ]
  },
  {
   "cell_type": "markdown",
   "id": "7d4750ab",
   "metadata": {},
   "source": [
    "Let's test it out. I want to see which documents are most closely related to a query.\n",
    "\n"
   ]
  },
  {
   "cell_type": "code",
   "execution_count": 134,
   "id": "34929595",
   "metadata": {},
   "outputs": [],
   "source": [
    "query = \"What peter thiel thinks about startups?\"\n",
    "docs = vectorstore.similarity_search(query)"
   ]
  },
  {
   "cell_type": "markdown",
   "id": "1ec60de1",
   "metadata": {},
   "source": [
    "Then we can check them out. In theory, the texts which are deemed most similar should hold the answer to our question.\n",
    "But keep in mind that our query just happens to be a question, it could be a random statement or sentence and it would still work."
   ]
  },
  {
   "cell_type": "code",
   "execution_count": 135,
   "id": "4e0f5b45",
   "metadata": {},
   "outputs": [
    {
     "name": "stdout",
     "output_type": "stream",
     "text": [
      "command in the display list once during each refresh cycle. \n",
      "- Graphics are drawn on a vector display system by directing the electron beam along \n",
      "component lines of the picture. \n",
      "Advantages: \n",
      "- Can produce output with high resolutions. \n",
      "- Better for animation than raster system since only end point information is needed. \n",
      " \n",
      "Disadvantages: \n",
      "- Cannot fill area with pattern and manipulate bits. \n",
      "- Refreshing image depends upon its complexity.\n",
      "\n",
      "- Graphics are drawn on a vector display system by directing the electron beam along \n",
      "component lines of the picture. \n",
      "Advantages: \n",
      "- Can produce output with high resolutions. \n",
      "- Better for animation than raster system since only end point information is needed. \n",
      " \n",
      "Disadvantages: \n",
      "- Cannot fill area with pattern and manipulate bits. \n",
      "- Refreshing image depends upon its complexity.\n",
      "\n",
      "- Graphics are drawn on a vector display system by directing the electron beam along \n",
      "component lines of the picture. \n",
      "Advantages: \n",
      "- Can produce output with high resolutions. \n",
      "- Better for animation than raster system since only end point information is needed. \n",
      " \n",
      "Disadvantages: \n",
      "- Cannot fill area with pattern and manipulate bits. \n",
      "- Refreshing image depends upon its complexity.\n",
      "\n",
      " Flood gun: Used for maintaining the picture display. \n",
      "Advantages: \n",
      "- No refreshing is needed. \n",
      "- Very complex picture can be displayed at very high resolutions without flicker. \n",
      "Disadvantages: \n",
      "- To update any part of image must redraw all parts of image. \n",
      "- Ordinarily, do not display color. \n",
      "- To erasing and redrawing process can take several second for a picture.\n",
      "\n"
     ]
    }
   ],
   "source": [
    "# Here's an example of the first document that was returned\n",
    "for doc in docs:\n",
    "    print (f\"{doc.page_content}\\n\")"
   ]
  },
  {
   "cell_type": "markdown",
   "id": "b73d8504",
   "metadata": {},
   "source": [
    "### Option #2: Pinecone (for cloud)\n",
    "If you want to use pinecone, run the code below, if not then skip over to Chroma below it. You must go to [Pinecone.io](https://www.pinecone.io/) and set up an account"
   ]
  },
  {
   "cell_type": "code",
   "execution_count": 12,
   "id": "0e093ef3",
   "metadata": {
    "hide_input": false
   },
   "outputs": [],
   "source": [
    "# PINECONE_API_KEY = os.getenv('PINECONE_API_KEY', 'YourAPIKey')\n",
    "# PINECONE_API_ENV = os.getenv('PINECONE_API_ENV', 'us-east1-gcp') # You may need to switch with your env\n",
    "\n",
    "# # initialize pinecone\n",
    "# pinecone.init(\n",
    "#     api_key=PINECONE_API_KEY,  # find at app.pinecone.io\n",
    "#     environment=PINECONE_API_ENV  # next to api key in console\n",
    "# )\n",
    "# index_name = \"langchaintest\" # put in the name of your pinecone index here\n",
    "\n",
    "# docsearch = Pinecone.from_texts([t.page_content for t in texts], embeddings, index_name=index_name)"
   ]
  },
  {
   "cell_type": "markdown",
   "id": "3c35dcd9",
   "metadata": {},
   "source": [
    "### Query those docs to get your answer back\n",
    "\n",
    "Great, those are just the docs which should hold our answer. Now we can pass those to a LangChain chain to query the LLM.\n",
    "\n",
    "We could do this manually, but a chain is a convenient helper for us."
   ]
  },
  {
   "cell_type": "code",
   "execution_count": 70,
   "id": "f051337b",
   "metadata": {},
   "outputs": [],
   "source": [
    "from langchain_google_genai import ChatGoogleGenerativeAI\n",
    "from langchain.chains.question_answering import load_qa_chain\n",
    "llm = ChatGoogleGenerativeAI(model=\"gemini-2.5-flash\",\n",
    "    temperature=0.7)"
   ]
  },
  {
   "cell_type": "code",
   "execution_count": null,
   "id": "58a6b675",
   "metadata": {},
   "outputs": [],
   "source": []
  },
  {
   "cell_type": "code",
   "execution_count": 136,
   "id": "6b9b1c03",
   "metadata": {},
   "outputs": [],
   "source": [
    "from langchain.chains.question_answering import load_qa_chain\n",
    "from langchain.prompts import PromptTemplate\n",
    "\n",
    "template = \"\"\"\n",
    "You are a highly intelligent and helpful tutor.\n",
    "You have access to a digital book provided as context below.\n",
    "\n",
    "Your goal:\n",
    "1. Use the information from the book as the primary reference.\n",
    "2. If a direct answer is not in the book, use logical reasoning or general knowledge\n",
    "   to solve or explain — but always keep it consistent with the book’s ideas.\n",
    "3. If the question involves numericals, formulas, or examples, solve them clearly step-by-step.\n",
    "4. If something is not mentioned in the book, explicitly state that and then provide a best logical answer.\n",
    "\n",
    "------------------\n",
    "Book Reference:\n",
    "{context}\n",
    "------------------\n",
    "\n",
    "Question:\n",
    "{question}\n",
    "\n",
    "Answer (referencing the book + reasoning if needed):\n",
    "\"\"\"\n",
    "\n",
    "prompt = PromptTemplate(\n",
    "    input_variables=[\"context\", \"question\"],\n",
    "    template=template,\n",
    ")\n",
    "\n",
    "chain = load_qa_chain(llm, chain_type=\"stuff\", prompt=prompt)\n"
   ]
  },
  {
   "cell_type": "code",
   "execution_count": 137,
   "id": "f67ea7c2",
   "metadata": {},
   "outputs": [
    {
     "data": {
      "text/plain": [
       "[Document(metadata={'page_label': '13', 'page': 12, 'producer': '3.0.0.M8 (5.0.0.M4)', 'creator': 'PDFium', 'creationdate': 'D:20200630190556', 'source': 'CG-1.pdf', 'moddate': '2023-02-08T15:05:22+01:00', 'total_pages': 18}, page_content='Primary goal of standardized graphics software is portability. When packages are designed \\nwith standard graphics functions, software can he moved easily from one hardware system to \\nanother and used in different implementations and applications. International and national \\nstandards planning organizations in many countries have cooperated in an effort to develop a \\ngenerally accepted standard for computer graphics. After considerable effort, this work led to \\nfollowing standards:'),\n",
       " Document(metadata={'page': 12, 'total_pages': 18, 'page_label': '13', 'producer': '3.0.0.M8 (5.0.0.M4)', 'creationdate': 'D:20200630190556', 'creator': 'PDFium', 'source': 'CG-1.pdf', 'moddate': '2023-02-08T15:05:22+01:00'}, page_content=\"views, and applying transformations. \\n\\uf0a7 Example: GL(Graphics Library) \\n \\n\\uf0b7 Special-purpose application packages: \\n\\uf0a7 Designed for nonprogrammers, so that users can generate displays without \\nworrying about how graphics operations work. \\n\\uf0a7 The interface to the graphics routines in such packages allows users to \\ncommunicate with the programs in their own terms. \\n\\uf0a7 Example: artist's painting programs and various business, medical, and CAD \\nsystems. \\n \\nSoftware standards \\n \\nPrimary goal of standardized graphics software is portability. When packages are designed \\nwith standard graphics functions, software can he moved easily from one hardware system to \\nanother and used in different implementations and applications. International and national \\nstandards planning organizations in many countries have cooperated in an effort to develop a \\ngenerally accepted standard for computer graphics. After considerable effort, this work led to \\nfollowing standards:\"),\n",
       " Document(metadata={'creator': 'PDFium', 'page_label': '13', 'moddate': '2023-02-08T15:05:22+01:00', 'page': 12, 'producer': '3.0.0.M8 (5.0.0.M4)', 'total_pages': 18, 'creationdate': 'D:20200630190556', 'source': 'CG-1.pdf'}, page_content=\"worrying about how graphics operations work. \\n\\uf0a7 The interface to the graphics routines in such packages allows users to \\ncommunicate with the programs in their own terms. \\n\\uf0a7 Example: artist's painting programs and various business, medical, and CAD \\nsystems. \\n \\nSoftware standards \\n \\nPrimary goal of standardized graphics software is portability. When packages are designed \\nwith standard graphics functions, software can he moved easily from one hardware system to\"),\n",
       " Document(metadata={'total_pages': 18, 'moddate': '2023-02-08T15:05:22+01:00', 'page_label': '13', 'producer': '3.0.0.M8 (5.0.0.M4)', 'page': 12, 'creationdate': 'D:20200630190556', 'source': 'CG-1.pdf', 'creator': 'PDFium'}, page_content=\"worrying about how graphics operations work. \\n\\uf0a7 The interface to the graphics routines in such packages allows users to \\ncommunicate with the programs in their own terms. \\n\\uf0a7 Example: artist's painting programs and various business, medical, and CAD \\nsystems. \\n \\nSoftware standards \\n \\nPrimary goal of standardized graphics software is portability. When packages are designed \\nwith standard graphics functions, software can he moved easily from one hardware system to\"),\n",
       " Document(metadata={'page': 12, 'total_pages': 18, 'moddate': '2023-02-08T15:05:22+01:00', 'creator': 'PDFium', 'page_label': '13', 'creationdate': 'D:20200630190556', 'source': 'CG-1.pdf', 'producer': '3.0.0.M8 (5.0.0.M4)'}, page_content=\"worrying about how graphics operations work. \\n\\uf0a7 The interface to the graphics routines in such packages allows users to \\ncommunicate with the programs in their own terms. \\n\\uf0a7 Example: artist's painting programs and various business, medical, and CAD \\nsystems. \\n \\nSoftware standards \\n \\nPrimary goal of standardized graphics software is portability. When packages are designed \\nwith standard graphics functions, software can he moved easily from one hardware system to\")]"
      ]
     },
     "execution_count": 137,
     "metadata": {},
     "output_type": "execute_result"
    }
   ],
   "source": [
    "query = \"Software standards ?\"\n",
    "docs = vectorstore.similarity_search(query,k=5)\n",
    "docs"
   ]
  },
  {
   "cell_type": "markdown",
   "id": "516e0a80",
   "metadata": {},
   "source": [
    "Awesome! We just went and queried an external data source!"
   ]
  },
  {
   "cell_type": "code",
   "execution_count": 138,
   "id": "7c3d1062",
   "metadata": {},
   "outputs": [
    {
     "data": {
      "text/plain": [
       "'The primary goal of standardized graphics software is **portability**.\\n\\nWhen graphics packages are designed with standard graphics functions, the software can be:\\n*   Moved easily from one hardware system to another.\\n*   Used in different implementations and applications.\\n\\nInternational and national standards planning organizations in many countries have collaborated to develop generally accepted standards for computer graphics. After significant effort, this work led to specific standards (though the specific names of these standards are not fully visible in the provided excerpt beyond \"GL(Graphics Library)\" as an example of a general-purpose package, and the text cuts off before listing other \"following standards\").'"
      ]
     },
     "execution_count": 138,
     "metadata": {},
     "output_type": "execute_result"
    }
   ],
   "source": [
    "chain.run(input_documents=docs, question=query)"
   ]
  },
  {
   "cell_type": "code",
   "execution_count": null,
   "id": "4db3c060",
   "metadata": {},
   "outputs": [],
   "source": []
  }
 ],
 "metadata": {
  "kernelspec": {
   "display_name": "UV Python 3.11 (langchain-tutorial)",
   "language": "python",
   "name": "langchain-tutorial"
  },
  "language_info": {
   "codemirror_mode": {
    "name": "ipython",
    "version": 3
   },
   "file_extension": ".py",
   "mimetype": "text/x-python",
   "name": "python",
   "nbconvert_exporter": "python",
   "pygments_lexer": "ipython3",
   "version": "3.11.0"
  }
 },
 "nbformat": 4,
 "nbformat_minor": 5
}
