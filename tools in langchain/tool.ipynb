{
 "cells": [
  {
   "cell_type": "markdown",
   "id": "63915978",
   "metadata": {},
   "source": [
    " What is a Tool in LangChain?\n",
    "\n",
    "A Tool is basically a Python function or external API wrapped in a structure so that a LangChain LLM can use it.\n",
    "\n",
    "\n",
    "A tool has metadata:\n",
    "\n",
    "Name: identifier\n",
    "\n",
    "Description: what it does (used by LLM to choose it)\n",
    "\n",
    "Input schema: arguments it accepts"
   ]
  },
  {
   "cell_type": "markdown",
   "id": "a267b979",
   "metadata": {},
   "source": [
    "2️⃣ Types of Tools\n",
    "\n",
    "1.Python functions\n",
    "\n",
    "Simple sync/async functions wrapped with @tool or StructuredTool.from_function\n",
    "\n",
    "Example: add, multiply\n",
    "\n",
    "2.External APIs\n",
    "\n",
    "Tools can call any API, e.g., Google Search, Weather API\n",
    "\n",
    "LangChain wraps the API call so the LLM can “use” it\n",
    "\n",
    "3.Custom Agents / Complex workflows\n",
    "\n",
    "Tools can be multi-step chains, database queries, or scraping pipelines"
   ]
  },
  {
   "cell_type": "markdown",
   "id": "c49389d9",
   "metadata": {},
   "source": [
    "@tool decoraator is used to define the custom tools"
   ]
  },
  {
   "cell_type": "code",
   "execution_count": null,
   "id": "57de4a11",
   "metadata": {},
   "outputs": [],
   "source": []
  },
  {
   "cell_type": "code",
   "execution_count": null,
   "id": "674f16e2",
   "metadata": {},
   "outputs": [],
   "source": []
  },
  {
   "cell_type": "code",
   "execution_count": null,
   "id": "80a89dd8",
   "metadata": {},
   "outputs": [],
   "source": []
  },
  {
   "cell_type": "code",
   "execution_count": null,
   "id": "d7bd5a6a",
   "metadata": {},
   "outputs": [],
   "source": []
  },
  {
   "cell_type": "code",
   "execution_count": null,
   "id": "83414a12",
   "metadata": {},
   "outputs": [],
   "source": []
  }
 ],
 "metadata": {
  "kernelspec": {
   "display_name": "UV Python 3.11 (langchain-tutorial)",
   "language": "python",
   "name": "langchain-tutorial"
  },
  "language_info": {
   "name": "python",
   "version": "3.11.0"
  }
 },
 "nbformat": 4,
 "nbformat_minor": 5
}
